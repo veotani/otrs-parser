{
 "cells": [
  {
   "cell_type": "code",
   "execution_count": 18,
   "metadata": {
    "collapsed": false
   },
   "outputs": [],
   "source": [
    "import re\n",
    "import codecs\n",
    "\n",
    "url = r\"C:\\Users\\Anton\\Desktop\\otrsPage\\aa.txt\"\n",
    "f=codecs.open(url, 'r', \"utf_8_sig\" )\n",
    "x = f.read()\n",
    "\n",
    "patternPAR = re.compile(r'110-(\\d{1,4})-(\\d{1,4})')\n",
    "projectsAndResearches = patternPAR.findall(x)\n",
    "\n",
    "patternDate = re.compile('\\d{2}\\.\\d{2}\\.\\d{4}')"
   ]
  },
  {
   "cell_type": "code",
   "execution_count": 8,
   "metadata": {
    "collapsed": false
   },
   "outputs": [
    {
     "name": "stdout",
     "output_type": "stream",
     "text": [
      "Найдено проектов: 38\n"
     ]
    }
   ],
   "source": [
    "import lxml.html\n",
    "from lxml import etree\n",
    "import codecs\n",
    "import re\n",
    "from datetime import date\n",
    "\n",
    "path = r\"C:\\Users\\Anton\\Desktop\\otrsPage\\parseme.html\"\n",
    "datestart = \"01.07.2016\"\n",
    "dateend = \"30.09.2017\"\n",
    "\n",
    "class Line:\n",
    "    def __init__(self, research, date):\n",
    "        self.research = research\n",
    "        self.date = date\n",
    "\n",
    "def parseOtrsByPath(path, datestart, dateend):\n",
    "    url = r\"C:\\Users\\Anton\\Desktop\\otrsPage\\aa.txt\"\n",
    "    f=codecs.open(url, 'r', \"utf_8_sig\" )\n",
    "    x = f.read()\n",
    "    tree = etree.HTML(x)\n",
    "    parsedPage = tree.xpath('//div[contains(@class, \"Content\")]//table[contains(@class, \"DataTable\")]//tbody//tr')\n",
    "    #//table[contains(@class, \"DataTable\")]//tbody//td\n",
    "    researches = []\n",
    "    patternPAR = re.compile(r'110-(\\d{1,4})-\\d{1,4}')\n",
    "    patternDate = re.compile('(\\d{2})\\.(\\d{2})\\.(\\d{4})\\s\\d{2}:\\d{2}:\\d{2}')\n",
    "    for line in parsedPage:\n",
    "        parsedLine = etree.tostring(line)\n",
    "        if (patternPAR.search(parsedLine.decode(\"utf-8\")) != None and patternDate.search(parsedLine.decode(\"utf-8\")) != None):\n",
    "            researches.append(Line(patternPAR.findall(parsedLine.decode(\"utf-8\")),  patternDate.findall(parsedLine.decode(\"utf-8\"))))\n",
    "    uniqueProjects = dict()\n",
    "    for research in researches:\n",
    "        if research.research[0] not in uniqueProjects:\n",
    "            uniqueProjects[research.research[0]] = research.date\n",
    "    datesPattern = re.compile('(\\d{2})\\.(\\d{2})\\.(\\d{4})')\n",
    "    dstart = date(int(datesPattern.findall(datestart)[0][2]), int(datesPattern.findall(datestart)[0][1]), int(datesPattern.findall(datestart)[0][0]))\n",
    "    dend = date(int(datesPattern.findall(dateend)[0][2]), int(datesPattern.findall(dateend)[0][1]), int(datesPattern.findall(dateend)[0][0]))\n",
    "\n",
    "    countProject = 0\n",
    "    for proj in uniqueProjects:\n",
    "        dateTuple = uniqueProjects[proj]\n",
    "        dateOfThisProject = date(int(dateTuple[0][2]), int(dateTuple[0][1]), int(dateTuple[0][0]))\n",
    "        if (dstart <= dateOfThisProject <= dend):\n",
    "            countProject = countProject + 1\n",
    "\n",
    "    print('Найдено проектов:', countProject)   \n",
    "\n",
    "parseOtrsByPath(path, datestart=datestart, dateend=dateend)"
   ]
  },
  {
   "cell_type": "code",
   "execution_count": 128,
   "metadata": {
    "collapsed": false
   },
   "outputs": [
    {
     "name": "stdout",
     "output_type": "stream",
     "text": [
      "129 ['29.06.2016 14:18:00']\n"
     ]
    }
   ],
   "source": [
    "import lxml\n",
    "from lxml import etree\n",
    "\n",
    "path = r\"C:\\Users\\Anton\\Desktop\\otrsPage\\aa.txt\"\n",
    "f=codecs.open(url, 'r', \"utf_8_sig\" )\n",
    "x = f.read()\n",
    "\n",
    "tree = etree.HTML(x)\n",
    "parsedPage = tree.xpath('//div[contains(@id, \"ConfigItem (Виртуальная машина)\")]//table[contains(@class, \"DataTable\")]//tbody//tr')\n",
    "#print(patternDate.search(parsedPage[112]))\n",
    "    \n",
    "content = etree.tostring(parsedPage[0])\n",
    "if (patternPAR.search(content.decode(\"utf-8\") ) != None and patternDate.search(content.decode(\"utf-8\") ) != None):\n",
    "    a = Line(patternPAR.findall(content.decode(\"utf-8\"))[0], patternDate.findall(content.decode(\"utf-8\")))\n",
    "print(a.research, a.date)"
   ]
  },
  {
   "cell_type": "code",
   "execution_count": 166,
   "metadata": {
    "collapsed": false
   },
   "outputs": [
    {
     "name": "stdout",
     "output_type": "stream",
     "text": [
      "22-22-1024 24:22\n"
     ]
    }
   ],
   "source": [
    "a =  Line('240-24240-24', '22-22-1024 24:22')\n",
    "print(a.date)"
   ]
  },
  {
   "cell_type": "code",
   "execution_count": 177,
   "metadata": {
    "collapsed": false
   },
   "outputs": [
    {
     "data": {
      "text/plain": [
       "'07'"
      ]
     },
     "execution_count": 177,
     "metadata": {},
     "output_type": "execute_result"
    }
   ],
   "source": [
    "\n",
    "datesPattern = re.compile('(\\d{2})\\.(\\d{2})\\.(\\d{4})')\n",
    "yo = datesPattern.findall(\"01.07.2016\")\n",
    "yo[0][1]\n"
   ]
  }
 ],
 "metadata": {
  "kernelspec": {
   "display_name": "Python 3",
   "language": "python",
   "name": "python3"
  },
  "language_info": {
   "codemirror_mode": {
    "name": "ipython",
    "version": 3
   },
   "file_extension": ".py",
   "mimetype": "text/x-python",
   "name": "python",
   "nbconvert_exporter": "python",
   "pygments_lexer": "ipython3",
   "version": "3.6.0"
  }
 },
 "nbformat": 4,
 "nbformat_minor": 2
}
